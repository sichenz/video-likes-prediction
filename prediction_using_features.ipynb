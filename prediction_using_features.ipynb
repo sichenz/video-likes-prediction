{
 "cells": [
  {
   "cell_type": "code",
   "execution_count": 3,
   "metadata": {},
   "outputs": [
    {
     "name": "stderr",
     "output_type": "stream",
     "text": [
      "[nltk_data] Downloading package stopwords to\n",
      "[nltk_data]     /Users/princess/nltk_data...\n",
      "[nltk_data]   Package stopwords is already up-to-date!\n",
      "[nltk_data] Downloading package wordnet to\n",
      "[nltk_data]     /Users/princess/nltk_data...\n",
      "[nltk_data]   Package wordnet is already up-to-date!\n",
      "[nltk_data] Downloading package omw-1.4 to\n",
      "[nltk_data]     /Users/princess/nltk_data...\n",
      "[nltk_data]   Package omw-1.4 is already up-to-date!\n"
     ]
    },
    {
     "data": {
      "text/plain": [
       "True"
      ]
     },
     "execution_count": 3,
     "metadata": {},
     "output_type": "execute_result"
    }
   ],
   "source": [
    "import pandas as pd\n",
    "import numpy as np\n",
    "import matplotlib.pyplot as plt\n",
    "import seaborn as sns\n",
    "import joblib\n",
    "import nltk\n",
    "import re\n",
    "import os\n",
    "\n",
    "from sklearn.model_selection import train_test_split, GridSearchCV\n",
    "from sklearn.preprocessing import StandardScaler, LabelEncoder\n",
    "from sklearn.feature_extraction.text import TfidfVectorizer\n",
    "from sklearn.metrics import mean_squared_error, r2_score\n",
    "from xgboost import XGBRegressor\n",
    "\n",
    "from nltk.corpus import stopwords\n",
    "from nltk.stem import WordNetLemmatizer\n",
    "\n",
    "# Download NLTK data\n",
    "nltk.download('stopwords')\n",
    "nltk.download('wordnet')\n",
    "nltk.download('omw-1.4')\n"
   ]
  },
  {
   "cell_type": "markdown",
   "metadata": {},
   "source": [
    "Load the Dataset"
   ]
  },
  {
   "cell_type": "code",
   "execution_count": 4,
   "metadata": {},
   "outputs": [
    {
     "name": "stdout",
     "output_type": "stream",
     "text": [
      "Dataset Loaded Successfully!\n",
      "  filename  duration_seconds   fps  width  height  num_frames  file_size_MB  \\\n",
      "0  140.mp4        171.390667  25.0   1280     720        4284     11.208204   \n",
      "1  197.mp4        188.158667  25.0   1280     720        4703     31.291876   \n",
      "2   68.mp4         10.007800  25.0    720     720         250      0.139423   \n",
      "3  141.mp4        156.862667  25.0   1280     720        3921     13.209558   \n",
      "4  155.mp4         68.880000  25.0   1280     720        1722      8.201943   \n",
      "\n",
      "  codec  has_audio  audio_fps  audio_channels                      title  \\\n",
      "0  h264       True    48000.0               2     学生采访👩‍🎓👨‍🎓｜金融学(金融科技)硕士   \n",
      "1  h264       True    48000.0               2           香港大学111周年庆祝活动回顾🎊   \n",
      "2  h264       True    44100.0               2          港大经管硕士祝大家中秋节快乐🎑🌕🐰   \n",
      "3  h264       True    48000.0               2           学生采访👩‍🎓👨‍🎓｜金融学硕士   \n",
      "4  h264       True    48000.0               2  港大经管硕士｜Orientation 2023🥳📚   \n",
      "\n",
      "  publish_time  likes  \n",
      "0   10/19/2023     24  \n",
      "1    3/22/2023     12  \n",
      "2    9/17/2024     17  \n",
      "3   10/19/2023     17  \n",
      "4    9/27/2023     32  \n",
      "\n",
      "Dataset Information:\n",
      "<class 'pandas.core.frame.DataFrame'>\n",
      "RangeIndex: 41 entries, 0 to 40\n",
      "Data columns (total 14 columns):\n",
      " #   Column            Non-Null Count  Dtype  \n",
      "---  ------            --------------  -----  \n",
      " 0   filename          41 non-null     object \n",
      " 1   duration_seconds  41 non-null     float64\n",
      " 2   fps               41 non-null     float64\n",
      " 3   width             41 non-null     int64  \n",
      " 4   height            41 non-null     int64  \n",
      " 5   num_frames        41 non-null     int64  \n",
      " 6   file_size_MB      41 non-null     float64\n",
      " 7   codec             41 non-null     object \n",
      " 8   has_audio         41 non-null     bool   \n",
      " 9   audio_fps         41 non-null     float64\n",
      " 10  audio_channels    41 non-null     int64  \n",
      " 11  title             41 non-null     object \n",
      " 12  publish_time      41 non-null     object \n",
      " 13  likes             41 non-null     int64  \n",
      "dtypes: bool(1), float64(4), int64(5), object(4)\n",
      "memory usage: 4.3+ KB\n",
      "None\n",
      "\n",
      "Missing Values:\n",
      "filename            0\n",
      "duration_seconds    0\n",
      "fps                 0\n",
      "width               0\n",
      "height              0\n",
      "num_frames          0\n",
      "file_size_MB        0\n",
      "codec               0\n",
      "has_audio           0\n",
      "audio_fps           0\n",
      "audio_channels      0\n",
      "title               0\n",
      "publish_time        0\n",
      "likes               0\n",
      "dtype: int64\n"
     ]
    }
   ],
   "source": [
    "data_path = 'video_features.csv'\n",
    "df = pd.read_csv(data_path)\n",
    "\n",
    "print(\"Dataset Loaded Successfully!\")\n",
    "print(df.head())\n",
    "print(\"\\nDataset Information:\")\n",
    "print(df.info())\n",
    "print(\"\\nMissing Values:\")\n",
    "print(df.isnull().sum())\n"
   ]
  },
  {
   "cell_type": "markdown",
   "metadata": {},
   "source": [
    "Data Pre-Processing"
   ]
  },
  {
   "cell_type": "code",
   "execution_count": 5,
   "metadata": {},
   "outputs": [
    {
     "name": "stdout",
     "output_type": "stream",
     "text": [
      "\n",
      "Missing Values After Imputation:\n",
      "filename            0\n",
      "duration_seconds    0\n",
      "fps                 0\n",
      "width               0\n",
      "height              0\n",
      "num_frames          0\n",
      "file_size_MB        0\n",
      "codec               0\n",
      "has_audio           0\n",
      "audio_fps           0\n",
      "audio_channels      0\n",
      "title               0\n",
      "publish_time        0\n",
      "likes               0\n",
      "dtype: int64\n"
     ]
    }
   ],
   "source": [
    "numerical_cols = ['duration_seconds', 'fps', 'width', 'height', 'num_frames',\n",
    "                  'file_size_MB', 'audio_fps', 'audio_channels']\n",
    "df[numerical_cols] = df[numerical_cols].fillna(df[numerical_cols].median())\n",
    "\n",
    "# Fill categorical columns with mode\n",
    "categorical_cols = ['codec', 'has_audio']\n",
    "df[categorical_cols] = df[categorical_cols].fillna(df[categorical_cols].mode().iloc[0])\n",
    "\n",
    "# Fill 'title' and 'publish_time'\n",
    "df['title'] = df['title'].fillna('No Title')\n",
    "df['publish_time'] = pd.to_datetime(df['publish_time'], errors='coerce')\n",
    "df['publish_time'] = df['publish_time'].fillna(pd.Timestamp('2000-01-01'))\n",
    "\n",
    "print(\"\\nMissing Values After Imputation:\")\n",
    "print(df.isnull().sum())\n"
   ]
  },
  {
   "cell_type": "code",
   "execution_count": 6,
   "metadata": {},
   "outputs": [
    {
     "name": "stdout",
     "output_type": "stream",
     "text": [
      "\n",
      "DataFrame After Text Processing:\n",
      "   duration_seconds   fps  width  height  num_frames  file_size_MB  has_audio  \\\n",
      "0        171.390667  25.0   1280     720        4284     11.208204          1   \n",
      "1        188.158667  25.0   1280     720        4703     31.291876          1   \n",
      "2         10.007800  25.0    720     720         250      0.139423          1   \n",
      "3        156.862667  25.0   1280     720        3921     13.209558          1   \n",
      "4         68.880000  25.0   1280     720        1722      8.201943          1   \n",
      "\n",
      "   audio_fps  audio_channels  likes  ...  mktg  msc  nyushnyu  orientation  \\\n",
      "0    48000.0               2     24  ...   0.0  0.0       0.0          0.0   \n",
      "1    48000.0               2     12  ...   0.0  0.0       0.0          0.0   \n",
      "2    44100.0               2     17  ...   0.0  0.0       0.0          0.0   \n",
      "3    48000.0               2     17  ...   0.0  0.0       0.0          0.0   \n",
      "4    48000.0               2     32  ...   0.0  0.0       0.0          1.0   \n",
      "\n",
      "   programme  stern  student  tip  utd  vlog  \n",
      "0        0.0    0.0      0.0  0.0  0.0   0.0  \n",
      "1        0.0    0.0      0.0  0.0  0.0   0.0  \n",
      "2        0.0    0.0      0.0  0.0  0.0   0.0  \n",
      "3        0.0    0.0      0.0  0.0  0.0   0.0  \n",
      "4        0.0    0.0      0.0  0.0  0.0   0.0  \n",
      "\n",
      "[5 rows x 34 columns]\n",
      "\n",
      "Scaled Numerical Features:\n",
      "   duration_seconds       fps     width    height  num_frames  file_size_MB  \\\n",
      "0          0.830395 -0.427132  0.453087 -0.289817    0.734492      0.240031   \n",
      "1          1.080634 -0.427132  0.453087 -0.289817    0.984861      2.969984   \n",
      "2         -1.578017 -0.427132 -2.147634 -0.289817   -1.675980     -1.264538   \n",
      "3          0.613585 -0.427132  0.453087 -0.289817    0.517585      0.512073   \n",
      "4         -0.699432 -0.427132  0.453087 -0.289817   -0.796403     -0.168607   \n",
      "\n",
      "   audio_fps  audio_channels  publish_year  publish_month  publish_day  \\\n",
      "0   0.841625             0.0      0.078326       0.425337     0.299738   \n",
      "1   0.841625             0.0      0.078326      -1.543560     0.634899   \n",
      "2  -1.188177             0.0      1.684010       0.144066     0.076297   \n",
      "3   0.841625             0.0      0.078326       0.425337     0.299738   \n",
      "4   0.841625             0.0      0.078326       0.144066     1.193500   \n",
      "\n",
      "   publish_dayofweek  publish_hour  \n",
      "0           0.349227           0.0  \n",
      "1          -0.404368           0.0  \n",
      "2          -1.157963           0.0  \n",
      "3           0.349227           0.0  \n",
      "4          -0.404368           0.0  \n"
     ]
    }
   ],
   "source": [
    "# 'has_audio' is boolean; convert to integer\n",
    "df['has_audio'] = df['has_audio'].astype(int)\n",
    "\n",
    "# Label Encode 'codec'\n",
    "le_codec = LabelEncoder()\n",
    "df['codec_encoded'] = le_codec.fit_transform(df['codec'])\n",
    "\n",
    "# Drop original 'codec' column\n",
    "df = df.drop('codec', axis=1)\n",
    "\n",
    "# Ensure 'publish_time' is in datetime format\n",
    "df['publish_time'] = pd.to_datetime(df['publish_time'], format='%m/%d/%Y')\n",
    "\n",
    "# Extract date features\n",
    "df['publish_year'] = df['publish_time'].dt.year\n",
    "df['publish_month'] = df['publish_time'].dt.month\n",
    "df['publish_day'] = df['publish_time'].dt.day\n",
    "df['publish_dayofweek'] = df['publish_time'].dt.dayofweek\n",
    "df['publish_hour'] = 12  # Default value as time is not provided\n",
    "\n",
    "# Drop original 'publish_time' column\n",
    "df = df.drop('publish_time', axis=1)\n",
    "\n",
    "def clean_text(text):\n",
    "    text = text.lower()\n",
    "    text = re.sub(r'[^a-zA-Z\\s]', '', text)\n",
    "    text = re.sub(r'\\s+', ' ', text).strip()\n",
    "    return text\n",
    "\n",
    "df['title_clean'] = df['title'].apply(clean_text)\n",
    "\n",
    "# Remove stopwords and lemmatize\n",
    "stop_words = set(stopwords.words('english'))\n",
    "lemmatizer = WordNetLemmatizer()\n",
    "\n",
    "def preprocess_text(text):\n",
    "    tokens = text.split()\n",
    "    tokens = [lemmatizer.lemmatize(word) for word in tokens if word not in stop_words]\n",
    "    return ' '.join(tokens)\n",
    "\n",
    "df['title_processed'] = df['title_clean'].apply(preprocess_text)\n",
    "\n",
    "# TF-IDF Vectorization\n",
    "tfidf = TfidfVectorizer(max_features=100)\n",
    "tfidf_matrix = tfidf.fit_transform(df['title_processed'])\n",
    "tfidf_df = pd.DataFrame(tfidf_matrix.toarray(), columns=tfidf.get_feature_names_out())\n",
    "\n",
    "# Combine TF-IDF features with original DataFrame\n",
    "df = pd.concat([df, tfidf_df], axis=1)\n",
    "\n",
    "# Drop text-related columns\n",
    "df = df.drop(['filename', 'title', 'title_clean', 'title_processed'], axis=1)\n",
    "\n",
    "print(\"\\nDataFrame After Text Processing:\")\n",
    "print(df.head())\n",
    "\n",
    "numerical_features = ['duration_seconds', 'fps', 'width', 'height', 'num_frames',\n",
    "                      'file_size_MB', 'audio_fps', 'audio_channels',\n",
    "                      'publish_year', 'publish_month', 'publish_day',\n",
    "                      'publish_dayofweek', 'publish_hour']\n",
    "\n",
    "scaler = StandardScaler()\n",
    "df[numerical_features] = scaler.fit_transform(df[numerical_features])\n",
    "\n",
    "print(\"\\nScaled Numerical Features:\")\n",
    "print(df[numerical_features].head())"
   ]
  },
  {
   "cell_type": "markdown",
   "metadata": {},
   "source": [
    "Feature Selection"
   ]
  },
  {
   "cell_type": "code",
   "execution_count": 7,
   "metadata": {},
   "outputs": [
    {
     "name": "stdout",
     "output_type": "stream",
     "text": [
      "\n",
      "Features and Target Defined:\n",
      "X shape: (41, 33)\n",
      "y shape: (41,)\n"
     ]
    }
   ],
   "source": [
    "\n",
    "X = df.drop(['likes'], axis=1)\n",
    "y = df['likes']\n",
    "\n",
    "print(\"\\nFeatures and Target Defined:\")\n",
    "print(\"X shape:\", X.shape)\n",
    "print(\"y shape:\", y.shape)"
   ]
  },
  {
   "cell_type": "markdown",
   "metadata": {},
   "source": [
    "Train/Test Splitting"
   ]
  },
  {
   "cell_type": "code",
   "execution_count": 8,
   "metadata": {},
   "outputs": [
    {
     "name": "stdout",
     "output_type": "stream",
     "text": [
      "\n",
      "Data Split into Training and Testing Sets:\n",
      "X_train shape: (20, 33)\n",
      "X_test shape: (21, 33)\n",
      "y_train shape: (20,)\n",
      "y_test shape: (21,)\n"
     ]
    }
   ],
   "source": [
    "X_train, X_test, y_train, y_test = train_test_split(\n",
    "    X, y, test_size=0.5, random_state=42\n",
    ")\n",
    "\n",
    "print(\"\\nData Split into Training and Testing Sets:\")\n",
    "print(\"X_train shape:\", X_train.shape)\n",
    "print(\"X_test shape:\", X_test.shape)\n",
    "print(\"y_train shape:\", y_train.shape)\n",
    "print(\"y_test shape:\", y_test.shape)\n"
   ]
  },
  {
   "cell_type": "markdown",
   "metadata": {},
   "source": [
    "Model Training"
   ]
  },
  {
   "cell_type": "code",
   "execution_count": 9,
   "metadata": {},
   "outputs": [
    {
     "name": "stdout",
     "output_type": "stream",
     "text": [
      "\n",
      "Initial XGBoost Model Trained Successfully!\n"
     ]
    }
   ],
   "source": [
    "xgb_reg = XGBRegressor(\n",
    "    objective='reg:squarederror',\n",
    "    random_state=42,\n",
    "    n_jobs=-1\n",
    ")\n",
    "xgb_reg.fit(X_train, y_train)\n",
    "\n",
    "print(\"\\nInitial XGBoost Model Trained Successfully!\")\n"
   ]
  },
  {
   "cell_type": "markdown",
   "metadata": {},
   "source": [
    "Hyperparameter Tuning"
   ]
  },
  {
   "cell_type": "code",
   "execution_count": 10,
   "metadata": {},
   "outputs": [
    {
     "name": "stdout",
     "output_type": "stream",
     "text": [
      "\n",
      "Starting Grid Search for Hyperparameter Tuning...\n",
      "Fitting 3 folds for each of 243 candidates, totalling 729 fits\n",
      "\n",
      "Best Hyperparameters Found:\n",
      "{'colsample_bytree': 0.8, 'learning_rate': 0.01, 'max_depth': 4, 'n_estimators': 100, 'subsample': 0.8}\n"
     ]
    }
   ],
   "source": [
    "param_grid = {\n",
    "    'n_estimators': [100, 200, 300],\n",
    "    'max_depth': [4, 6, 8],\n",
    "    'learning_rate': [0.01, 0.1, 0.2],\n",
    "    'subsample': [0.7, 0.8, 1.0],\n",
    "    'colsample_bytree': [0.7, 0.8, 1.0]\n",
    "}\n",
    "\n",
    "grid_search = GridSearchCV(\n",
    "    estimator=xgb_reg,\n",
    "    param_grid=param_grid,\n",
    "    cv=3,\n",
    "    scoring='neg_mean_squared_error',\n",
    "    verbose=1,\n",
    "    n_jobs=-1\n",
    ")\n",
    "\n",
    "print(\"\\nStarting Grid Search for Hyperparameter Tuning...\")\n",
    "grid_search.fit(X_train, y_train)\n",
    "\n",
    "best_params = grid_search.best_params_\n",
    "print(\"\\nBest Hyperparameters Found:\")\n",
    "print(best_params)"
   ]
  },
  {
   "cell_type": "markdown",
   "metadata": {},
   "source": [
    "Model Evaluation"
   ]
  },
  {
   "cell_type": "code",
   "execution_count": 11,
   "metadata": {},
   "outputs": [
    {
     "name": "stdout",
     "output_type": "stream",
     "text": [
      "\n",
      "Model Performance on Test Set:\n",
      "Mean Squared Error (MSE): 1209.29\n",
      "Root Mean Squared Error (RMSE): 34.77\n",
      "R² Score: -0.06\n"
     ]
    }
   ],
   "source": [
    "best_xgb = grid_search.best_estimator_\n",
    "y_pred = best_xgb.predict(X_test)\n",
    "\n",
    "mse = mean_squared_error(y_test, y_pred)\n",
    "rmse = np.sqrt(mse)\n",
    "r2 = r2_score(y_test, y_pred)\n",
    "\n",
    "print(\"\\nModel Performance on Test Set:\")\n",
    "print(f\"Mean Squared Error (MSE): {mse:.2f}\")\n",
    "print(f\"Root Mean Squared Error (RMSE): {rmse:.2f}\")\n",
    "print(f\"R² Score: {r2:.2f}\")\n"
   ]
  },
  {
   "cell_type": "markdown",
   "metadata": {},
   "source": [
    "Feature Importances"
   ]
  },
  {
   "cell_type": "code",
   "execution_count": 12,
   "metadata": {},
   "outputs": [
    {
     "data": {
      "image/png": "[encoded data removed]",
      "text/plain": [
       "<Figure size 1200x800 with 1 Axes>"
      ]
     },
     "metadata": {},
     "output_type": "display_data"
    }
   ],
   "source": [
    "importances = best_xgb.feature_importances_\n",
    "feature_names = X.columns\n",
    "\n",
    "feature_importance_df = pd.DataFrame({\n",
    "    'Feature': feature_names,\n",
    "    'Importance': importances\n",
    "}).sort_values(by='Importance', ascending=False)\n",
    "\n",
    "plt.figure(figsize=(12, 8))\n",
    "sns.barplot(x='Importance', y='Feature', data=feature_importance_df)\n",
    "plt.title('Feature Importances')\n",
    "plt.tight_layout()\n",
    "plt.show()\n"
   ]
  },
  {
   "cell_type": "markdown",
   "metadata": {},
   "source": [
    "Save Model"
   ]
  },
  {
   "cell_type": "code",
   "execution_count": 13,
   "metadata": {},
   "outputs": [
    {
     "name": "stdout",
     "output_type": "stream",
     "text": [
      "\n",
      "Model saved to models/video_feature_model.pkl\n",
      "Scaler saved to models/scaler.pkl\n",
      "TF-IDF Vectorizer saved to models/tfidf_vectorizer.pkl\n",
      "Label Encoder saved to models/label_encoder_codec.pkl\n",
      "Feature names saved to models/feature_names.pkl\n"
     ]
    }
   ],
   "source": [
    "# Create the 'models' folder if it doesn't exist\n",
    "os.makedirs('models', exist_ok=True)\n",
    "model_folder = 'models/'\n",
    "\n",
    "# Save the XGB model\n",
    "model_filename = os.path.join(model_folder, 'video_feature_model.pkl')\n",
    "joblib.dump(best_xgb, model_filename)\n",
    "print(f\"\\nModel saved to {model_filename}\")\n",
    "\n",
    "# Save the scaler\n",
    "scaler_filename = os.path.join(model_folder, 'scaler.pkl')\n",
    "joblib.dump(scaler, scaler_filename)\n",
    "print(f\"Scaler saved to {scaler_filename}\")\n",
    "\n",
    "# Save the TF-IDF vectorizer\n",
    "tfidf_filename = os.path.join(model_folder, 'tfidf_vectorizer.pkl')\n",
    "joblib.dump(tfidf, tfidf_filename)\n",
    "print(f\"TF-IDF Vectorizer saved to {tfidf_filename}\")\n",
    "\n",
    "# Save the Label Encoder\n",
    "label_encoder_filename = os.path.join(model_folder, 'label_encoder_codec.pkl')\n",
    "joblib.dump(le_codec, label_encoder_filename)\n",
    "print(f\"Label Encoder saved to {label_encoder_filename}\")\n",
    "\n",
    "# Save the feature names\n",
    "feature_names_filename = os.path.join(model_folder, 'feature_names.pkl')\n",
    "joblib.dump(feature_names.tolist(), feature_names_filename)\n",
    "print(f\"Feature names saved to {feature_names_filename}\")"
   ]
  },
  {
   "cell_type": "markdown",
   "metadata": {},
   "source": [
    "Prediction Function"
   ]
  },
  {
   "cell_type": "code",
   "execution_count": 16,
   "metadata": {},
   "outputs": [
    {
     "name": "stderr",
     "output_type": "stream",
     "text": [
      "[nltk_data] Downloading package stopwords to\n",
      "[nltk_data]     /Users/princess/nltk_data...\n",
      "[nltk_data]   Package stopwords is already up-to-date!\n",
      "[nltk_data] Downloading package wordnet to\n",
      "[nltk_data]     /Users/princess/nltk_data...\n",
      "[nltk_data]   Package wordnet is already up-to-date!\n",
      "[nltk_data] Downloading package omw-1.4 to\n",
      "[nltk_data]     /Users/princess/nltk_data...\n",
      "[nltk_data]   Package omw-1.4 is already up-to-date!\n"
     ]
    }
   ],
   "source": [
    "import joblib\n",
    "import pandas as pd\n",
    "import numpy as np\n",
    "import nltk\n",
    "import re\n",
    "from nltk.corpus import stopwords\n",
    "from nltk.stem import WordNetLemmatizer\n",
    "\n",
    "# Download NLTK data if not already downloaded\n",
    "nltk.download('stopwords')\n",
    "nltk.download('wordnet')\n",
    "nltk.download('omw-1.4')\n",
    "\n",
    "# Define the folder path where models are stored\n",
    "model_folder = 'models/'\n",
    "\n",
    "# Load preprocessing objects and model\n",
    "model = joblib.load(f'{model_folder}video_feature_model.pkl')\n",
    "scaler = joblib.load(f'{model_folder}scaler.pkl')\n",
    "tfidf_vectorizer = joblib.load(f'{model_folder}tfidf_vectorizer.pkl')\n",
    "le_codec = joblib.load(f'{model_folder}label_encoder_codec.pkl')\n",
    "feature_names = joblib.load(f'{model_folder}feature_names.pkl')\n"
   ]
  },
  {
   "cell_type": "code",
   "execution_count": 17,
   "metadata": {},
   "outputs": [],
   "source": [
    "def predict_likes(model, scaler, tfidf_vectorizer, le_codec, feature_names,\n",
    "                 duration_seconds, fps, width, height, num_frames, file_size_MB,\n",
    "                 audio_fps, audio_channels, publish_time,\n",
    "                 codec, has_audio, title):\n",
    "    \"\"\"\n",
    "    Predict the number of likes for a video based on its features.\n",
    "\n",
    "    Parameters:\n",
    "    - model: Trained regression model.\n",
    "    - scaler: Fitted StandardScaler object.\n",
    "    - tfidf_vectorizer: Fitted TfidfVectorizer object.\n",
    "    - le_codec: Fitted LabelEncoder for 'codec_encoded'.\n",
    "    - feature_names: List of feature names in the order used during training.\n",
    "    - duration_seconds (float)\n",
    "    - fps (float)\n",
    "    - width (int)\n",
    "    - height (int)\n",
    "    - num_frames (int)\n",
    "    - file_size_MB (float)\n",
    "    - audio_fps (float)\n",
    "    - audio_channels (int)\n",
    "    - publish_time (str): Date in 'mm/dd/yyyy' format.\n",
    "    - codec (str): Codec used (e.g., 'h264').\n",
    "    - has_audio (int): 1 if has audio, 0 otherwise.\n",
    "    - title (str): Title of the video.\n",
    "\n",
    "    Returns:\n",
    "    - predicted_likes (float): Predicted number of likes.\n",
    "    \"\"\"\n",
    "    # Handle publish_time\n",
    "    try:\n",
    "        publish_datetime = pd.to_datetime(publish_time, format='%m/%d/%Y')\n",
    "    except:\n",
    "        publish_datetime = pd.to_datetime('2000-01-01')\n",
    "\n",
    "    publish_year = publish_datetime.year\n",
    "    publish_month = publish_datetime.month\n",
    "    publish_day = publish_datetime.day\n",
    "    publish_dayofweek = publish_datetime.dayofweek\n",
    "    publish_hour = 12  # Default\n",
    "\n",
    "    # Encode 'codec'\n",
    "    if codec in le_codec.classes_:\n",
    "        codec_encoded = le_codec.transform([codec])[0]\n",
    "    else:\n",
    "        # Handle unknown codec by assigning a default or unknown class\n",
    "        # Here, assigning the mode value\n",
    "        codec_encoded = le_codec.transform([le_codec.classes_[0]])[0]\n",
    "        print(f\"Warning: Codec '{codec}' not found. Assigning default codec.\")\n",
    "\n",
    "    # Clean and process title\n",
    "    def clean_text(text):\n",
    "        text = text.lower()\n",
    "        text = re.sub(r'[^a-zA-Z\\s]', '', text)\n",
    "        text = re.sub(r'\\s+', ' ', text).strip()\n",
    "        return text\n",
    "\n",
    "    title_clean = clean_text(title)\n",
    "\n",
    "    # Remove stopwords and lemmatize\n",
    "    stop_words = set(stopwords.words('english'))\n",
    "    lemmatizer = WordNetLemmatizer()\n",
    "\n",
    "    def preprocess_text(text):\n",
    "        tokens = text.split()\n",
    "        tokens = [lemmatizer.lemmatize(word) for word in tokens if word not in stop_words]\n",
    "        return ' '.join(tokens)\n",
    "\n",
    "    title_processed = preprocess_text(title_clean)\n",
    "\n",
    "    # TF-IDF Vectorization\n",
    "    tfidf_vector = tfidf_vectorizer.transform([title_processed])\n",
    "    tfidf_features = pd.DataFrame(tfidf_vector.toarray(), columns=tfidf_vectorizer.get_feature_names_out())\n",
    "\n",
    "    # Combine all features into a single DataFrame\n",
    "    input_data = pd.DataFrame({\n",
    "        'duration_seconds': [duration_seconds],\n",
    "        'fps': [fps],\n",
    "        'width': [width],\n",
    "        'height': [height],\n",
    "        'num_frames': [num_frames],\n",
    "        'file_size_MB': [file_size_MB],\n",
    "        'audio_fps': [audio_fps],\n",
    "        'audio_channels': [audio_channels],\n",
    "        'publish_year': [publish_year],\n",
    "        'publish_month': [publish_month],\n",
    "        'publish_day': [publish_day],\n",
    "        'publish_dayofweek': [publish_dayofweek],\n",
    "        'publish_hour': [publish_hour],\n",
    "        'codec_encoded': [codec_encoded],\n",
    "        'has_audio': [has_audio]\n",
    "    })\n",
    "\n",
    "    # Scale numerical features\n",
    "    numerical_features = ['duration_seconds', 'fps', 'width', 'height', 'num_frames',\n",
    "                          'file_size_MB', 'audio_fps', 'audio_channels',\n",
    "                          'publish_year', 'publish_month', 'publish_day',\n",
    "                          'publish_dayofweek', 'publish_hour']\n",
    "    input_data[numerical_features] = scaler.transform(input_data[numerical_features])\n",
    "\n",
    "    # Concatenate TF-IDF features\n",
    "    input_data = pd.concat([input_data, tfidf_features], axis=1)\n",
    "\n",
    "    # Reorder columns to match training\n",
    "    input_data = input_data.reindex(columns=feature_names, fill_value=0)\n",
    "\n",
    "    # Check for any missing features\n",
    "    missing_features = set(feature_names) - set(input_data.columns)\n",
    "    if missing_features:\n",
    "        print(f\"Warning: Missing features {missing_features}. Filling with zeros.\")\n",
    "        for feature in missing_features:\n",
    "            input_data[feature] = 0\n",
    "\n",
    "    # Ensure the order matches\n",
    "    input_data = input_data[feature_names]\n",
    "\n",
    "    # Predict\n",
    "    predicted_likes = model.predict(input_data)[0]\n",
    "\n",
    "    return predicted_likes"
   ]
  },
  {
   "cell_type": "markdown",
   "metadata": {},
   "source": [
    "Example Video"
   ]
  },
  {
   "cell_type": "code",
   "execution_count": null,
   "metadata": {},
   "outputs": [
    {
     "name": "stdout",
     "output_type": "stream",
     "text": [
      "Predicted Likes: 22.67\n"
     ]
    }
   ],
   "source": [
    "# Example video features\n",
    "new_video = {\n",
    "    'duration_seconds': 150.0,\n",
    "    'fps': 25.0,\n",
    "    'width': 1280,\n",
    "    'height': 720,\n",
    "    'num_frames': 3750,\n",
    "    'file_size_MB': 10.0,\n",
    "    'audio_fps': 48000.0,\n",
    "    'audio_channels': 2,\n",
    "    'publish_time': '10/19/2023',\n",
    "    'codec': 'h264',\n",
    "    'has_audio': 1,\n",
    "    'title': '新学期欢迎活动🎉📚'\n",
    "}\n",
    "\n",
    "# Predict likes\n",
    "predicted_likes = predict_likes(\n",
    "    model=model,\n",
    "    scaler=scaler,\n",
    "    tfidf_vectorizer=tfidf_vectorizer,\n",
    "    le_codec=le_codec,\n",
    "    feature_names=feature_names,\n",
    "    duration_seconds=new_video['duration_seconds'],\n",
    "    fps=new_video['fps'],\n",
    "    width=new_video['width'],\n",
    "    height=new_video['height'],\n",
    "    num_frames=new_video['num_frames'],\n",
    "    file_size_MB=new_video['file_size_MB'],\n",
    "    audio_fps=new_video['audio_fps'],\n",
    "    audio_channels=new_video['audio_channels'],\n",
    "    publish_time=new_video['publish_time'],\n",
    "    codec=new_video['codec'],\n",
    "    has_audio=new_video['has_audio'],\n",
    "    title=new_video['title']\n",
    ")\n",
    "\n",
    "print(f\"Predicted Likes: {predicted_likes:.2f}\")"
   ]
  }
 ],
 "metadata": {
  "kernelspec": {
   "display_name": "xiaoliu",
   "language": "python",
   "name": "python3"
  },
  "language_info": {
   "codemirror_mode": {
    "name": "ipython",
    "version": 3
   },
   "file_extension": ".py",
   "mimetype": "text/x-python",
   "name": "python",
   "nbconvert_exporter": "python",
   "pygments_lexer": "ipython3",
   "version": "3.12.2"
  }
 },
 "nbformat": 4,
 "nbformat_minor": 2
}
